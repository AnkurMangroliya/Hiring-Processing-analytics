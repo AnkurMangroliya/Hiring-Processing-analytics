{
 "cells": [
  {
   "cell_type": "code",
   "execution_count": 1,
   "id": "7749870c",
   "metadata": {},
   "outputs": [],
   "source": [
    "import pandas as pd\n",
    "import numpy as np\n",
    "from scipy import stats\n",
    "import seaborn as sns\n"
   ]
  },
  {
   "cell_type": "code",
   "execution_count": 2,
   "id": "a7dd70be",
   "metadata": {},
   "outputs": [],
   "source": [
    "df = pd.read_excel('Stati.xlsx')"
   ]
  },
  {
   "cell_type": "code",
   "execution_count": 3,
   "id": "dbccf4c8",
   "metadata": {},
   "outputs": [
    {
     "data": {
      "text/plain": [
       "<AxesSubplot: ylabel='Offered Salary'>"
      ]
     },
     "execution_count": 3,
     "metadata": {},
     "output_type": "execute_result"
    },
    {
     "data": {
      "image/png": "[encoded data removed]",
      "text/plain": [
       "<Figure size 640x480 with 1 Axes>"
      ]
     },
     "metadata": {},
     "output_type": "display_data"
    }
   ],
   "source": [
    "sns.boxplot(y='Offered Salary',data=df)\n"
   ]
  },
  {
   "cell_type": "code",
   "execution_count": 4,
   "id": "bbc76006",
   "metadata": {},
   "outputs": [
    {
     "data": {
      "text/plain": [
       "49986.073416305415"
      ]
     },
     "execution_count": 4,
     "metadata": {},
     "output_type": "execute_result"
    }
   ],
   "source": [
    "df['Offered Salary'].mean()"
   ]
  },
  {
   "cell_type": "code",
   "execution_count": 14,
   "id": "e3521f4f",
   "metadata": {},
   "outputs": [],
   "source": [
    "data1 = df[df['Offered Salary']<100000]"
   ]
  },
  {
   "cell_type": "code",
   "execution_count": 15,
   "id": "cad485d1",
   "metadata": {},
   "outputs": [],
   "source": [
    "data1 = data1[data1['Offered Salary']>20000]"
   ]
  },
  {
   "cell_type": "code",
   "execution_count": 16,
   "id": "7359f8f8",
   "metadata": {},
   "outputs": [
    {
     "data": {
      "text/html": [
       "<div>\n",
       "<style scoped>\n",
       "    .dataframe tbody tr th:only-of-type {\n",
       "        vertical-align: middle;\n",
       "    }\n",
       "\n",
       "    .dataframe tbody tr th {\n",
       "        vertical-align: top;\n",
       "    }\n",
       "\n",
       "    .dataframe thead th {\n",
       "        text-align: right;\n",
       "    }\n",
       "</style>\n",
       "<table border=\"1\" class=\"dataframe\">\n",
       "  <thead>\n",
       "    <tr style=\"text-align: right;\">\n",
       "      <th></th>\n",
       "      <th>application_id</th>\n",
       "      <th>Interview Taken on</th>\n",
       "      <th>Status</th>\n",
       "      <th>event_name</th>\n",
       "      <th>Department</th>\n",
       "      <th>Post Name</th>\n",
       "      <th>Offered Salary</th>\n",
       "    </tr>\n",
       "  </thead>\n",
       "  <tbody>\n",
       "    <tr>\n",
       "      <th>0</th>\n",
       "      <td>383422</td>\n",
       "      <td>2014-05-01 11:40:00</td>\n",
       "      <td>Hired</td>\n",
       "      <td>Male</td>\n",
       "      <td>Service Department</td>\n",
       "      <td>c8</td>\n",
       "      <td>56553.0</td>\n",
       "    </tr>\n",
       "    <tr>\n",
       "      <th>1</th>\n",
       "      <td>907518</td>\n",
       "      <td>2014-05-06 08:08:00</td>\n",
       "      <td>Hired</td>\n",
       "      <td>Female</td>\n",
       "      <td>Service Department</td>\n",
       "      <td>c5</td>\n",
       "      <td>22075.0</td>\n",
       "    </tr>\n",
       "    <tr>\n",
       "      <th>2</th>\n",
       "      <td>176719</td>\n",
       "      <td>2014-05-06 08:08:00</td>\n",
       "      <td>Rejected</td>\n",
       "      <td>Male</td>\n",
       "      <td>Service Department</td>\n",
       "      <td>c5</td>\n",
       "      <td>70069.0</td>\n",
       "    </tr>\n",
       "    <tr>\n",
       "      <th>4</th>\n",
       "      <td>253651</td>\n",
       "      <td>2014-05-02 16:32:00</td>\n",
       "      <td>Hired</td>\n",
       "      <td>Male</td>\n",
       "      <td>Operations Department</td>\n",
       "      <td>i4</td>\n",
       "      <td>29668.0</td>\n",
       "    </tr>\n",
       "    <tr>\n",
       "      <th>5</th>\n",
       "      <td>959124</td>\n",
       "      <td>2014-05-06 16:27:00</td>\n",
       "      <td>Rejected</td>\n",
       "      <td>Male</td>\n",
       "      <td>Sales Department</td>\n",
       "      <td>i7</td>\n",
       "      <td>69904.0</td>\n",
       "    </tr>\n",
       "    <tr>\n",
       "      <th>...</th>\n",
       "      <td>...</td>\n",
       "      <td>...</td>\n",
       "      <td>...</td>\n",
       "      <td>...</td>\n",
       "      <td>...</td>\n",
       "      <td>...</td>\n",
       "      <td>...</td>\n",
       "    </tr>\n",
       "    <tr>\n",
       "      <th>7146</th>\n",
       "      <td>614594</td>\n",
       "      <td>2014-08-28 17:30:00</td>\n",
       "      <td>Hired</td>\n",
       "      <td>Male</td>\n",
       "      <td>Service Department</td>\n",
       "      <td>c9</td>\n",
       "      <td>40152.0</td>\n",
       "    </tr>\n",
       "    <tr>\n",
       "      <th>7147</th>\n",
       "      <td>493131</td>\n",
       "      <td>2014-08-28 17:32:00</td>\n",
       "      <td>Hired</td>\n",
       "      <td>Male</td>\n",
       "      <td>Service Department</td>\n",
       "      <td>c9</td>\n",
       "      <td>49282.0</td>\n",
       "    </tr>\n",
       "    <tr>\n",
       "      <th>7148</th>\n",
       "      <td>214261</td>\n",
       "      <td>2014-08-31 01:36:00</td>\n",
       "      <td>Hired</td>\n",
       "      <td>Female</td>\n",
       "      <td>Service Department</td>\n",
       "      <td>c5</td>\n",
       "      <td>57742.0</td>\n",
       "    </tr>\n",
       "    <tr>\n",
       "      <th>7149</th>\n",
       "      <td>932441</td>\n",
       "      <td>2014-08-31 01:37:00</td>\n",
       "      <td>Hired</td>\n",
       "      <td>Male</td>\n",
       "      <td>Service Department</td>\n",
       "      <td>c5</td>\n",
       "      <td>69932.0</td>\n",
       "    </tr>\n",
       "    <tr>\n",
       "      <th>7151</th>\n",
       "      <td>686055</td>\n",
       "      <td>2014-08-26 12:14:00</td>\n",
       "      <td>Hired</td>\n",
       "      <td>Male</td>\n",
       "      <td>Operations Department</td>\n",
       "      <td>c5</td>\n",
       "      <td>54201.0</td>\n",
       "    </tr>\n",
       "  </tbody>\n",
       "</table>\n",
       "<p>5743 rows × 7 columns</p>\n",
       "</div>"
      ],
      "text/plain": [
       "      application_id  Interview Taken on    Status event_name  \\\n",
       "0             383422 2014-05-01 11:40:00     Hired       Male   \n",
       "1             907518 2014-05-06 08:08:00     Hired     Female   \n",
       "2             176719 2014-05-06 08:08:00  Rejected       Male   \n",
       "4             253651 2014-05-02 16:32:00     Hired       Male   \n",
       "5             959124 2014-05-06 16:27:00  Rejected       Male   \n",
       "...              ...                 ...       ...        ...   \n",
       "7146          614594 2014-08-28 17:30:00     Hired       Male   \n",
       "7147          493131 2014-08-28 17:32:00     Hired       Male   \n",
       "7148          214261 2014-08-31 01:36:00     Hired     Female   \n",
       "7149          932441 2014-08-31 01:37:00     Hired       Male   \n",
       "7151          686055 2014-08-26 12:14:00     Hired       Male   \n",
       "\n",
       "                 Department Post Name  Offered Salary  \n",
       "0        Service Department        c8         56553.0  \n",
       "1        Service Department        c5         22075.0  \n",
       "2        Service Department        c5         70069.0  \n",
       "4     Operations Department        i4         29668.0  \n",
       "5          Sales Department        i7         69904.0  \n",
       "...                     ...       ...             ...  \n",
       "7146     Service Department        c9         40152.0  \n",
       "7147     Service Department        c9         49282.0  \n",
       "7148     Service Department        c5         57742.0  \n",
       "7149     Service Department        c5         69932.0  \n",
       "7151  Operations Department        c5         54201.0  \n",
       "\n",
       "[5743 rows x 7 columns]"
      ]
     },
     "execution_count": 16,
     "metadata": {},
     "output_type": "execute_result"
    }
   ],
   "source": [
    "data1\n"
   ]
  },
  {
   "cell_type": "code",
   "execution_count": 17,
   "id": "f307d928",
   "metadata": {},
   "outputs": [
    {
     "data": {
      "text/plain": [
       "<AxesSubplot: ylabel='Offered Salary'>"
      ]
     },
     "execution_count": 17,
     "metadata": {},
     "output_type": "execute_result"
    },
    {
     "data": {
      "image/png": "[encoded data removed]",
      "text/plain": [
       "<Figure size 640x480 with 1 Axes>"
      ]
     },
     "metadata": {},
     "output_type": "display_data"
    }
   ],
   "source": [
    "sns.boxplot(y='Offered Salary',data=data1)"
   ]
  },
  {
   "cell_type": "code",
   "execution_count": 19,
   "id": "0e545728",
   "metadata": {},
   "outputs": [],
   "source": [
    "data1.to_excel('New_data_without_outliers1.xlsx')"
   ]
  },
  {
   "cell_type": "code",
   "execution_count": 20,
   "id": "a7f3f971",
   "metadata": {},
   "outputs": [
    {
     "data": {
      "text/plain": [
       "59524.771025596376"
      ]
     },
     "execution_count": 20,
     "metadata": {},
     "output_type": "execute_result"
    }
   ],
   "source": [
    "data1['Offered Salary'].mean()"
   ]
  },
  {
   "cell_type": "code",
   "execution_count": null,
   "id": "ad7187e8",
   "metadata": {},
   "outputs": [],
   "source": []
  }
 ],
 "metadata": {
  "kernelspec": {
   "display_name": "Python 3 (ipykernel)",
   "language": "python",
   "name": "python3"
  },
  "language_info": {
   "codemirror_mode": {
    "name": "ipython",
    "version": 3
   },
   "file_extension": ".py",
   "mimetype": "text/x-python",
   "name": "python",
   "nbconvert_exporter": "python",
   "pygments_lexer": "ipython3",
   "version": "3.10.8"
  }
 },
 "nbformat": 4,
 "nbformat_minor": 5
}
